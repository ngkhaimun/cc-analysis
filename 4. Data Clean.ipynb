{
 "cells": [
  {
   "cell_type": "markdown",
   "id": "e6026b96-d5a9-4307-85f5-22d5a0c56706",
   "metadata": {},
   "source": [
    "### DATA TRANSFORMATION & CLEAN"
   ]
  },
  {
   "cell_type": "markdown",
   "id": "6dd2cac4-6287-412f-be62-6ff26963268e",
   "metadata": {},
   "source": [
    "##### Transform epouch datetime (merch_eff_time & merch_last_update_time)\n",
    "###### - the timezome is currently store as parameter in json"
   ]
  },
  {
   "cell_type": "code",
   "execution_count": 1,
   "id": "0e0bdd66-c4a0-4df3-89e0-bfbb885ba53c",
   "metadata": {},
   "outputs": [
    {
     "data": {
      "text/plain": [
       "'2012-01-02 18:19:50+08:00'"
      ]
     },
     "execution_count": 1,
     "metadata": {},
     "output_type": "execute_result"
    }
   ],
   "source": [
    "# Below function is aacepting epouch miliseconds and translate to datetime with zone\n",
    "\n",
    "def udf_parse_epoch(_epoch, _timezone):\n",
    "    import pytz \n",
    "    from datetime import datetime, timedelta\n",
    "\n",
    "    _result = \"\"\n",
    "\n",
    "    try:\n",
    "        _dt = datetime.fromtimestamp(int(str(_epoch)[:10]))\n",
    "        timezone = pytz.timezone(_timezone)\n",
    "        _result = str(timezone.localize(_dt))\n",
    "    except Exception as e:\n",
    "        pass\n",
    "\n",
    "    return _result  \n",
    "\n",
    "udf_parse_epoch(1325528390443962, \"Asia/Kuala_Lumpur\")"
   ]
  },
  {
   "cell_type": "code",
   "execution_count": null,
   "id": "fe33bd9e-7bb8-4398-b4fd-8116d09c0264",
   "metadata": {},
   "outputs": [],
   "source": []
  },
  {
   "cell_type": "code",
   "execution_count": null,
   "id": "a1aef36b-3cba-4dce-8724-5f7962526c17",
   "metadata": {},
   "outputs": [],
   "source": []
  },
  {
   "cell_type": "markdown",
   "id": "790a90a4-af9f-489a-a8d4-1da2dfaded33",
   "metadata": {},
   "source": [
    "##### Transform Credit Card number (cc_num)\n",
    "###### - all credit card number shoud be masked, however in this example where json is NOT first source, thus 1-way masked should be recommended"
   ]
  },
  {
   "cell_type": "code",
   "execution_count": 2,
   "id": "c1386ef0-35c7-4b24-854f-26bfb149a833",
   "metadata": {},
   "outputs": [
    {
     "data": {
      "text/plain": [
       "'445236######9043'"
      ]
     },
     "execution_count": 2,
     "metadata": {},
     "output_type": "execute_result"
    }
   ],
   "source": [
    "# Below function accepting input and masked all digit except first & last section\n",
    "\n",
    "def udf_parse_cc_num(_value):\n",
    "    return str(_value)[:6] + ('#' * (len(str(_value)) - 10)) + str(_value)[-4:]\n",
    "\n",
    "udf_parse_cc_num(4452366298769043)"
   ]
  },
  {
   "cell_type": "code",
   "execution_count": null,
   "id": "7d98408b-e42a-4958-8e0c-d3d32823e892",
   "metadata": {},
   "outputs": [],
   "source": []
  },
  {
   "cell_type": "code",
   "execution_count": null,
   "id": "4d405fd1-65de-4edc-b50f-f3934cd14798",
   "metadata": {},
   "outputs": [],
   "source": []
  },
  {
   "cell_type": "markdown",
   "id": "58cd6e04-4f42-47c7-b8ed-8dfb31ae228b",
   "metadata": {},
   "source": [
    "##### Transform merchant name (merchant)"
   ]
  },
  {
   "cell_type": "code",
   "execution_count": 3,
   "id": "da450a01-97fc-4813-90e7-71fe3ddba5df",
   "metadata": {},
   "outputs": [
    {
     "data": {
      "text/plain": [
       "'Leffler-Goldner'"
      ]
     },
     "execution_count": 3,
     "metadata": {},
     "output_type": "execute_result"
    }
   ],
   "source": [
    "# Below function accepting input and removed \"fraud_\"\n",
    "\n",
    "def udf_parse_merchant_name(_value):\n",
    "\n",
    "    try:\n",
    "        return _value.replace(\"fraud_\", \"\")\n",
    "    except Exception as e:\n",
    "        return \"\"\n",
    "\n",
    "udf_parse_merchant_name(\"fraud_Leffler-Goldner\")"
   ]
  },
  {
   "cell_type": "code",
   "execution_count": null,
   "id": "82c963ae-c637-4cff-9a9c-e80a5bec02d7",
   "metadata": {},
   "outputs": [],
   "source": []
  },
  {
   "cell_type": "code",
   "execution_count": null,
   "id": "8da4acf8-21cb-408c-9f9a-0a99e57fff12",
   "metadata": {},
   "outputs": [],
   "source": []
  },
  {
   "cell_type": "markdown",
   "id": "5118e13d-7490-4903-bc40-e672dad272d6",
   "metadata": {},
   "source": [
    "##### Transform datetime (trans_date_trans_time)"
   ]
  },
  {
   "cell_type": "code",
   "execution_count": 4,
   "id": "20ae56c0-f5db-4267-a446-cdc6e39a5b6f",
   "metadata": {},
   "outputs": [
    {
     "data": {
      "text/plain": [
       "'2019-01-02 18:00:09+08:00'"
      ]
     },
     "execution_count": 4,
     "metadata": {},
     "output_type": "execute_result"
    }
   ],
   "source": [
    "# Below function added timezone into existing value\n",
    "\n",
    "def udf_parse_datetime(_datestring, _timezone):\n",
    "    from dateutil import parser\n",
    "    import pytz \n",
    "\n",
    "    _result = \"\"\n",
    "    try:\n",
    "        _dt = parser.parse(_datestring)\n",
    "        timezone = pytz.timezone(_timezone)\n",
    "        _result = str(timezone.localize(_dt))\n",
    "    except Exception as e:\n",
    "        pass\n",
    "\n",
    "    return _result \n",
    "\n",
    "udf_parse_datetime(\"2019-01-02 18:00:09\", \"Asia/Kuala_Lumpur\")"
   ]
  },
  {
   "cell_type": "code",
   "execution_count": null,
   "id": "13769aa4-660a-4c01-b38e-80201d5d6041",
   "metadata": {},
   "outputs": [],
   "source": []
  },
  {
   "cell_type": "code",
   "execution_count": null,
   "id": "a9793468-2979-4d3c-ac5c-ac0a9ccb73b9",
   "metadata": {},
   "outputs": [],
   "source": []
  },
  {
   "cell_type": "markdown",
   "id": "6d1a60bb-6d36-4d90-922e-83737c3c9aca",
   "metadata": {},
   "source": [
    "##### Transform name (person_name)"
   ]
  },
  {
   "cell_type": "code",
   "execution_count": 5,
   "id": "39e2164b-e576-488a-8120-a2b478daabc2",
   "metadata": {},
   "outputs": [
    {
     "name": "stdout",
     "output_type": "stream",
     "text": [
      "First name : Jeremy\n",
      "Last name : Roberson\n"
     ]
    }
   ],
   "source": [
    "# Below function retrieve first and last name (person_name)\n",
    "\n",
    "def udf_parse_name(_name, _name_position ) -> str:\n",
    "    import re\n",
    "\n",
    "    _separator = ',|@|/'\n",
    "    _result = \"\"\n",
    "\n",
    "    try:\n",
    "        _result = re.split(_separator, _name.replace(\"|\",\",\"))[_name_position]\n",
    "        _result = re.sub('[^A-Za-z0-9]+', '', _result)\n",
    "        return _result\n",
    "\n",
    "    except Exception as e:\n",
    "        return _result\n",
    "\n",
    "\n",
    "print(\"First name : {0}\".format(udf_parse_name(\"Jeremy|Roberson!!!\", 0))) \n",
    "print(\"Last name : {0}\".format(udf_parse_name(\"Jeremy|Roberson!!!\", 1)))"
   ]
  },
  {
   "cell_type": "code",
   "execution_count": null,
   "id": "6acd3ff0-1167-40f5-9005-272e3d198b94",
   "metadata": {},
   "outputs": [],
   "source": []
  },
  {
   "cell_type": "code",
   "execution_count": null,
   "id": "b2223b53-4b47-40df-b25b-b8be115451c0",
   "metadata": {},
   "outputs": [],
   "source": []
  }
 ],
 "metadata": {
  "kernelspec": {
   "display_name": "Python 3 (ipykernel)",
   "language": "python",
   "name": "python3"
  },
  "language_info": {
   "codemirror_mode": {
    "name": "ipython",
    "version": 3
   },
   "file_extension": ".py",
   "mimetype": "text/x-python",
   "name": "python",
   "nbconvert_exporter": "python",
   "pygments_lexer": "ipython3",
   "version": "3.11.6"
  }
 },
 "nbformat": 4,
 "nbformat_minor": 5
}
