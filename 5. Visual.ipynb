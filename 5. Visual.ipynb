{
 "cells": [
  {
   "cell_type": "code",
   "execution_count": null,
   "id": "77b7ca22-a313-4b7a-befc-7e31650d317c",
   "metadata": {},
   "outputs": [],
   "source": [
    "from pnet.core import core\n",
    "from pnet.qa import analysis\n",
    "from datetime import datetime, date \n",
    "\n",
    "import duckdb as dd\n",
    "import matplotlib\n",
    "import matplotlib.pyplot as plt\n",
    "import pandas as pd\n",
    "import plotly.express as px\n",
    "\n",
    "_util = core.Util()\n",
    "_analysis = analysis.Analysis()"
   ]
  },
  {
   "cell_type": "code",
   "execution_count": null,
   "id": "fe89357d-2cbb-4add-8dcb-ba508c1cbaf0",
   "metadata": {},
   "outputs": [],
   "source": []
  },
  {
   "cell_type": "code",
   "execution_count": null,
   "id": "67960a47-e040-41dc-8515-37936f456b37",
   "metadata": {},
   "outputs": [],
   "source": [
    "# the dataset return is enrich with other additional fields\n",
    "df = _analysis.get_enrich_dataset(False)\n"
   ]
  },
  {
   "cell_type": "code",
   "execution_count": null,
   "id": "58ec6a5e-7d04-4ce6-be26-b440184a27b8",
   "metadata": {},
   "outputs": [],
   "source": []
  },
  {
   "cell_type": "markdown",
   "id": "2b46d43d-2864-414b-8435-8072c38bdb8e",
   "metadata": {},
   "source": [
    "### Fraud trasaction (consumer & merchant GPS) \n",
    "\n",
    "##### Plot consumer and merchant transaction with dotted line\n",
    "###### - The map shpw that relatinship between consumer & merchant is predictation. For eg, no oversea transaction or purchase located far away from home\n",
    "###### - Detected invalid merchant location, as some located on the sea and top of mountain."
   ]
  },
  {
   "cell_type": "code",
   "execution_count": null,
   "id": "966be0ca",
   "metadata": {},
   "outputs": [],
   "source": [
    "#_analysis.plot_map_for_fraud_transaction(df)\n"
   ]
  },
  {
   "cell_type": "code",
   "execution_count": null,
   "id": "54a046cd-c822-4876-831d-9fe9a73d814d",
   "metadata": {},
   "outputs": [],
   "source": []
  },
  {
   "cell_type": "markdown",
   "id": "944be3d1-80e1-4718-a5c7-dd4428da3461",
   "metadata": {},
   "source": [
    "###### Total number of FRAUD transaction and amount (group by card types)"
   ]
  },
  {
   "cell_type": "code",
   "execution_count": null,
   "id": "1c9b67b1-4db4-4ef1-90e3-3db6af359496",
   "metadata": {},
   "outputs": [],
   "source": [
    "_sql = \"SELECT is_fraud, card_type, count(*) num_of_transaction, sum(amt) sum_amount from {df} WHERE is_fraud = '1' GROUP BY 1,2 ORDER BY 2 DESC\"\n",
    "_util.spark.sql(_sql, df=df).show()"
   ]
  },
  {
   "cell_type": "code",
   "execution_count": null,
   "id": "8697bdd0-6b32-48da-bf01-ad1350cd7b26",
   "metadata": {},
   "outputs": [],
   "source": []
  },
  {
   "cell_type": "markdown",
   "id": "46d70eb3-cacd-479b-bc30-ad206e388057",
   "metadata": {},
   "source": [
    "###### Total number of FRAUD transaction and amount (group by state and city)"
   ]
  },
  {
   "cell_type": "code",
   "execution_count": null,
   "id": "dc7c10f1-8093-4f36-a7f3-aa58f6db5896",
   "metadata": {},
   "outputs": [],
   "source": [
    "_sql = \"SELECT is_fraud, state, count(*) num_of_transaction, sum(amt) sum_amount from {df} WHERE is_fraud = '1' GROUP BY 1,2 ORDER BY 3 DESC\"\n",
    "_util.spark.sql(_sql, df=df).show(df.count(),False)"
   ]
  },
  {
   "cell_type": "code",
   "execution_count": null,
   "id": "145e2d5a-0a7c-4805-b27d-8949e4ef20c6",
   "metadata": {},
   "outputs": [],
   "source": []
  },
  {
   "cell_type": "code",
   "execution_count": null,
   "id": "782ba86c-a62d-4c2b-910a-71fc8cd8ccd9",
   "metadata": {},
   "outputs": [],
   "source": [
    "# Destroy object\n",
    "df.unpersist()\n",
    "df = None"
   ]
  },
  {
   "cell_type": "code",
   "execution_count": null,
   "id": "dd030bb5-c162-4b26-b764-9d1ec5febb54",
   "metadata": {},
   "outputs": [],
   "source": []
  },
  {
   "cell_type": "code",
   "execution_count": null,
   "id": "0b812105-ee8a-4550-9f70-6340570f26a1",
   "metadata": {},
   "outputs": [],
   "source": []
  },
  {
   "cell_type": "markdown",
   "id": "c62be83d-8506-43e2-99ea-74224c9caadc",
   "metadata": {},
   "source": [
    "##### Perform data transformation for chart plotting"
   ]
  },
  {
   "cell_type": "code",
   "execution_count": null,
   "id": "4b1ca4d2-07e1-405c-89b1-e58ab1016ba6",
   "metadata": {},
   "outputs": [],
   "source": [
    "# load dataset as Pandas\n",
    "_sql = \"SELECT * FROM read_parquet ('/code/data/ingestion/final/part*.parquet') ORDER BY 1\"\n",
    "df_final = df_analysis = dd.sql(_sql).df()\n",
    "\n",
    "\n",
    "# Configure format\n",
    "pd.set_option('display.float_format', lambda x: '%.5f' % x)\n",
    "\n",
    "\n",
    "# function declaration\n",
    "def age(dob): \n",
    "    born = datetime.strptime(dob, \"%Y-%m-%d\").date() \n",
    "    today = date.today() \n",
    "    return today.year - born.year - ((today.month, today.day) < (born.month, born.day)) \n",
    "\n",
    "\n",
    "# Pandas transformation\n",
    "df_analysis['trans_date'] = df_analysis['trans_date_trans_time'].str[:10]\n",
    "df_analysis['trans_date'] = pd.to_datetime(df_analysis['trans_date'], errors='coerce')\n",
    "df_analysis['day_of_week'] = df_analysis['trans_date'].dt.day_name()\n",
    "df_analysis['trx_count'] = 1\n",
    "df_analysis['age'] = df_analysis['dob'].apply(age) \n",
    "\n",
    "\n",
    "df_category = df_analysis[['category','trans_num']].groupby(['category']).count().reset_index()\n",
    "df_category.columns = ['Category','category_count']\n",
    "df_category['percent'] = (df_category['category_count']/df_category['category_count'].sum())*100"
   ]
  },
  {
   "cell_type": "code",
   "execution_count": null,
   "id": "2f16dae4-57d8-4951-85cd-ad381b2a8d09",
   "metadata": {},
   "outputs": [],
   "source": []
  },
  {
   "cell_type": "markdown",
   "id": "bb394e55-2476-4c63-b1a9-c9ea5d2a253b",
   "metadata": {},
   "source": [
    "##### Chart show number of transaction (group by category)"
   ]
  },
  {
   "cell_type": "code",
   "execution_count": null,
   "id": "a495a028-83a5-49e2-ba41-c44ab000b4f9",
   "metadata": {},
   "outputs": [],
   "source": [
    "fig = px.pie(df_analysis, values='trx_count', names='category', title='Total number of transaction (by category)')\n",
    "fig.show()\n"
   ]
  },
  {
   "cell_type": "code",
   "execution_count": null,
   "id": "9b2b7616-fe34-440f-83c9-550a82e71624",
   "metadata": {},
   "outputs": [],
   "source": []
  },
  {
   "cell_type": "markdown",
   "id": "55c5315a-56f0-4191-9ce7-16a203876a34",
   "metadata": {},
   "source": [
    "##### Chart show number of transaction (group by day of week)"
   ]
  },
  {
   "cell_type": "code",
   "execution_count": null,
   "id": "5a63f1fe-56f9-48fb-ab92-afa0ed4b8661",
   "metadata": {},
   "outputs": [],
   "source": [
    "fig = px.pie(df_analysis, values='trx_count', names='day_of_week', title='Total number of transaction (by day of week)')\n",
    "fig.show()"
   ]
  },
  {
   "cell_type": "code",
   "execution_count": null,
   "id": "4f5cb51a-af67-44bd-886c-9118130dbc51",
   "metadata": {},
   "outputs": [],
   "source": []
  },
  {
   "cell_type": "code",
   "execution_count": null,
   "id": "716d301e-70ef-40c9-99dc-597de9826dbb",
   "metadata": {},
   "outputs": [],
   "source": [
    "fig = px.pie(df_analysis, values='trx_count', names='gender', title='Total number of transaction (by gender)')\n",
    "fig.show()"
   ]
  },
  {
   "cell_type": "code",
   "execution_count": null,
   "id": "19e19e02-ee14-4649-b31a-1aa4706933e3",
   "metadata": {},
   "outputs": [],
   "source": []
  },
  {
   "cell_type": "markdown",
   "id": "efd70dbf-8472-47f1-b896-96e3b99f9d97",
   "metadata": {},
   "source": [
    "##### Age population"
   ]
  },
  {
   "cell_type": "code",
   "execution_count": null,
   "id": "dea05c06-e213-47a8-91bf-1340ea4e7b7b",
   "metadata": {},
   "outputs": [],
   "source": [
    "df_analysis['age'].describe()"
   ]
  },
  {
   "cell_type": "code",
   "execution_count": null,
   "id": "d61ff97f-4e21-4545-b1e2-d4722870009d",
   "metadata": {},
   "outputs": [],
   "source": []
  },
  {
   "cell_type": "code",
   "execution_count": null,
   "id": "c7665828-e85c-4e42-82b2-748ef729ff9d",
   "metadata": {},
   "outputs": [],
   "source": []
  },
  {
   "cell_type": "code",
   "execution_count": null,
   "id": "6a6a5113-b39c-4908-8e18-a1d6e0f65c27",
   "metadata": {},
   "outputs": [],
   "source": [
    "df_fraud = df_analysis[['category','is_fraud','trans_num']].groupby(['category','is_fraud']).count().reset_index()\n",
    "df_fraud.columns = ['Category','is_fraud','count']\n",
    "\n",
    "df_fraud = df_fraud.merge(df_category[['Category','category_count','percent']],how='inner',\\\n",
    "                                  left_on='Category',right_on='Category')\n",
    "\n",
    "\n",
    "df_fraud['percent_grp'] = (df_fraud['count']/df_fraud['category_count'])*100\n",
    "df_fraud.sort_values(by = ['category_count'], ascending=False)"
   ]
  },
  {
   "cell_type": "code",
   "execution_count": null,
   "id": "631ca5ee-5244-4478-a1d2-108b5d502ac3",
   "metadata": {},
   "outputs": [],
   "source": []
  },
  {
   "cell_type": "code",
   "execution_count": null,
   "id": "686d5a48-b508-4ace-b795-1fe9e79d377a",
   "metadata": {},
   "outputs": [],
   "source": []
  },
  {
   "cell_type": "markdown",
   "id": "4dc88fca-9623-47fb-96b5-811047354773",
   "metadata": {},
   "source": [
    "#### Fraud Analysis\n",
    "###### - For fraud transaction, NY have the highest transaction SUM of value (295548.64)\n",
    "###### - VISA is the primary target of fraudster with total number of transaction 2441 (amount 1319668.70)\n",
    "\n",
    "\n",
    "#### Overall Observation (Overall)\n",
    "###### - Consumer spending were very much focus on gas (10.2%) and grocery (9.54%)\n",
    "###### - Based on the chart, consumer mostly spending on Sunday and Monday\n",
    "###### - Male contribute the highest number of transaction\n",
    "###### - The average aging population is between 38 and 62 years old\n"
   ]
  },
  {
   "cell_type": "code",
   "execution_count": null,
   "id": "9744491d-64ab-4638-90cb-7bdf0f6ccc0a",
   "metadata": {},
   "outputs": [],
   "source": []
  },
  {
   "cell_type": "code",
   "execution_count": null,
   "id": "d6a5de88-b174-4360-86dc-b60eb8e06288",
   "metadata": {},
   "outputs": [],
   "source": []
  }
 ],
 "metadata": {
  "kernelspec": {
   "display_name": "Python 3 (ipykernel)",
   "language": "python",
   "name": "python3"
  },
  "language_info": {
   "codemirror_mode": {
    "name": "ipython",
    "version": 3
   },
   "file_extension": ".py",
   "mimetype": "text/x-python",
   "name": "python",
   "nbconvert_exporter": "python",
   "pygments_lexer": "ipython3",
   "version": "3.11.6"
  }
 },
 "nbformat": 4,
 "nbformat_minor": 5
}
