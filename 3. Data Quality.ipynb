{
 "cells": [
  {
   "cell_type": "markdown",
   "id": "c2281e45-dcc1-458c-9e10-f1567dde1347",
   "metadata": {},
   "source": [
    "### DATA QUALITY CHECK\n"
   ]
  },
  {
   "cell_type": "markdown",
   "id": "1cf0ed24-04da-4ae4-90f2-7f7463708daa",
   "metadata": {},
   "source": [
    "##### Load library"
   ]
  },
  {
   "cell_type": "code",
   "execution_count": 1,
   "id": "055a2fcd-c138-40f4-af1b-70bc1f22a101",
   "metadata": {},
   "outputs": [],
   "source": [
    "import great_expectations as gx\n",
    "import great_expectations.expectations as gxe\n",
    "import glob\n",
    "import pandas as pd"
   ]
  },
  {
   "cell_type": "code",
   "execution_count": null,
   "id": "1b7793ec-4c1d-423b-b2df-58eb3878b60a",
   "metadata": {},
   "outputs": [],
   "source": []
  },
  {
   "cell_type": "markdown",
   "id": "4ce1aac6-b7b8-45e9-a7a3-f427b8bab73a",
   "metadata": {},
   "source": [
    "##### Create GX context and fetch CSV into dataset"
   ]
  },
  {
   "cell_type": "code",
   "execution_count": 2,
   "id": "68e763a8-c343-4e5c-9ecc-df2b7a43a951",
   "metadata": {},
   "outputs": [],
   "source": [
    "# Create Data Context.\n",
    "context = gx.get_context()\n",
    "\n",
    "# Import sample data into Pandas DataFrame.\n",
    "df = pd.read_csv(glob.glob('/code/data/output' + \"/*.csv\")[0], sep='|')\n"
   ]
  },
  {
   "cell_type": "code",
   "execution_count": null,
   "id": "0047ee75-ecd4-4a21-bb99-6b3d40105d7f",
   "metadata": {},
   "outputs": [],
   "source": []
  },
  {
   "cell_type": "markdown",
   "id": "47fd51fb-f788-4ee1-ba41-86d7950d0e43",
   "metadata": {},
   "source": [
    "##### Create Data Source, Data Asset, Batch Definition, and Batch"
   ]
  },
  {
   "cell_type": "code",
   "execution_count": 3,
   "id": "82bdbafa-63de-4676-a158-30b56f6cfdf2",
   "metadata": {},
   "outputs": [],
   "source": [
    "# Connect to data.\n",
    "# Create Data Source, Data Asset, Batch Definition, and Batch.\n",
    "data_source = context.data_sources.add_pandas(\"pandas\")\n",
    "data_asset = data_source.add_dataframe_asset(name=\"pd_cc_list\")\n",
    "\n",
    "batch_definition = data_asset.add_batch_definition_whole_dataframe(\"batch definition\")\n",
    "batch = batch_definition.get_batch(batch_parameters={\"dataframe\": df})"
   ]
  },
  {
   "cell_type": "code",
   "execution_count": null,
   "id": "e7245bef-c45e-42a2-ae53-6323e626f34b",
   "metadata": {},
   "outputs": [],
   "source": []
  },
  {
   "cell_type": "markdown",
   "id": "2005fc02-2a45-4aa3-837d-da0f2c638914",
   "metadata": {},
   "source": [
    "##### Create different type of validation.\n",
    "##### Below scenario show 2 different type of validation (ExpectColumnValuesToNotBeNull & ExpectColumnDistinctValuesToContainSet)\n",
    "##### For additional validation, please refer to https://greatexpectations.io/expectations/"
   ]
  },
  {
   "cell_type": "code",
   "execution_count": 4,
   "id": "dfe7726f-98c1-4cca-8564-cb88c0d4be24",
   "metadata": {},
   "outputs": [
    {
     "data": {
      "application/vnd.jupyter.widget-view+json": {
       "model_id": "c60ed7b1578548b8ba9c55b8b847b579",
       "version_major": 2,
       "version_minor": 0
      },
      "text/plain": [
       "Calculating Metrics:   0%|          | 0/8 [00:00<?, ?it/s]"
      ]
     },
     "metadata": {},
     "output_type": "display_data"
    },
    {
     "data": {
      "application/vnd.jupyter.widget-view+json": {
       "model_id": "7f36d5fe98eb4436aae70c787299f5fc",
       "version_major": 2,
       "version_minor": 0
      },
      "text/plain": [
       "Calculating Metrics:   0%|          | 0/8 [00:00<?, ?it/s]"
      ]
     },
     "metadata": {},
     "output_type": "display_data"
    },
    {
     "data": {
      "application/vnd.jupyter.widget-view+json": {
       "model_id": "7debdd2d7b6a48baa2c9c976a3d384c9",
       "version_major": 2,
       "version_minor": 0
      },
      "text/plain": [
       "Calculating Metrics:   0%|          | 0/8 [00:00<?, ?it/s]"
      ]
     },
     "metadata": {},
     "output_type": "display_data"
    },
    {
     "data": {
      "application/vnd.jupyter.widget-view+json": {
       "model_id": "ee08f990ddd94286a65067d6bfae6b49",
       "version_major": 2,
       "version_minor": 0
      },
      "text/plain": [
       "Calculating Metrics:   0%|          | 0/8 [00:00<?, ?it/s]"
      ]
     },
     "metadata": {},
     "output_type": "display_data"
    },
    {
     "data": {
      "application/vnd.jupyter.widget-view+json": {
       "model_id": "31d9d8b1c2a944fd89f65bf56e2d26b6",
       "version_major": 2,
       "version_minor": 0
      },
      "text/plain": [
       "Calculating Metrics:   0%|          | 0/8 [00:00<?, ?it/s]"
      ]
     },
     "metadata": {},
     "output_type": "display_data"
    },
    {
     "data": {
      "application/vnd.jupyter.widget-view+json": {
       "model_id": "98b03f39b86542be97e0d6920fce97ca",
       "version_major": 2,
       "version_minor": 0
      },
      "text/plain": [
       "Calculating Metrics:   0%|          | 0/4 [00:00<?, ?it/s]"
      ]
     },
     "metadata": {},
     "output_type": "display_data"
    },
    {
     "data": {
      "application/vnd.jupyter.widget-view+json": {
       "model_id": "b32f9d0100f6473abb6f6f489e37de23",
       "version_major": 2,
       "version_minor": 0
      },
      "text/plain": [
       "Calculating Metrics:   0%|          | 0/4 [00:00<?, ?it/s]"
      ]
     },
     "metadata": {},
     "output_type": "display_data"
    }
   ],
   "source": [
    "# ExpectColumnValuesToNotBeNull\n",
    "expect_gender_NotBeNull = gx.expectations.ExpectColumnValuesToNotBeNull( column=\"gender\", mostly=1 )\n",
    "expect_cc_bic_NotBeNull = gx.expectations.ExpectColumnValuesToNotBeNull( column=\"cc_bic\", mostly=1 )\n",
    "expect_trans_date_NotBeNull = gx.expectations.ExpectColumnValuesToNotBeNull( column=\"trans_date_trans_time\", mostly=1 )\n",
    "expect_merchant_NotBeNull = gx.expectations.ExpectColumnValuesToNotBeNull( column=\"merchant\", mostly=1 )\n",
    "expect_city_NotBeNull = gx.expectations.ExpectColumnValuesToNotBeNull( column=\"city\", mostly=1 )\n",
    "\n",
    "ge_NotBeNull = [expect_city_NotBeNull, expect_gender_NotBeNull, expect_merchant_NotBeNull, expect_cc_bic_NotBeNull, expect_trans_date_NotBeNull]\n",
    "\n",
    "\n",
    "# ExpectColumnDistinctValuesToContainSet\n",
    "expect_gender_ContainSet = gx.expectations.ExpectColumnDistinctValuesToContainSet(column=\"gender\", value_set=['F', 'M'])\n",
    "expect_is_fraud_ContainSet = gx.expectations.ExpectColumnDistinctValuesToContainSet(column=\"is_fraud\", value_set=[0, 1])\n",
    "\n",
    "ge_ContainSet = [expect_gender_ContainSet, expect_is_fraud_ContainSet]\n",
    "\n",
    "\n",
    "# Aggregate list of Expectation for be validate()\n",
    "combined_results = []\n",
    "for i in (ge_NotBeNull + ge_ContainSet):\n",
    "    combined_results.append( batch.validate(i))\n"
   ]
  },
  {
   "cell_type": "code",
   "execution_count": null,
   "id": "a5fa7668-b082-4bbc-beb3-4ee6b0c94302",
   "metadata": {},
   "outputs": [],
   "source": []
  },
  {
   "cell_type": "markdown",
   "id": "e2cddb8a-7002-4ba0-a4af-996e9f5113e8",
   "metadata": {},
   "source": [
    "##### Simple aggregate of test summaries  "
   ]
  },
  {
   "cell_type": "code",
   "execution_count": 5,
   "id": "a0ae7b4f-afd2-491a-bd23-cf34cd05d837",
   "metadata": {},
   "outputs": [
    {
     "name": "stdout",
     "output_type": "stream",
     "text": [
      "Column : city [expect_column_values_to_not_be_null] - True\n",
      "Column : gender [expect_column_values_to_not_be_null] - True\n",
      "Column : merchant [expect_column_values_to_not_be_null] - True\n",
      "Column : cc_bic [expect_column_values_to_not_be_null] - False\n",
      "Column : trans_date_trans_time [expect_column_values_to_not_be_null] - True\n",
      "Column : gender [expect_column_distinct_values_to_contain_set] - True\n",
      "Column : is_fraud [expect_column_distinct_values_to_contain_set] - True\n"
     ]
    }
   ],
   "source": [
    "for i in combined_results:\n",
    "    _column = i['expectation_config']['kwargs']['column']\n",
    "    _type = i['expectation_config']['type']\n",
    "    _success = i['success']\n",
    "\n",
    "    print(\"Column : {0} [{1}] - {2}\".format(_column, _type, _success))\n",
    "    "
   ]
  },
  {
   "cell_type": "code",
   "execution_count": null,
   "id": "b094cb00-9e8c-4287-b2ac-0e6806303e57",
   "metadata": {},
   "outputs": [],
   "source": []
  },
  {
   "cell_type": "markdown",
   "id": "8ea3d7c4-ac82-408d-81ad-6a4e9df93226",
   "metadata": {},
   "source": [
    "##### Below is the raw json respose from the test (it provide meaningful information when test is FAILED)"
   ]
  },
  {
   "cell_type": "code",
   "execution_count": 6,
   "id": "ede5456a-103a-4c7d-bcce-68df5236209b",
   "metadata": {},
   "outputs": [
    {
     "data": {
      "text/plain": [
       "[{\n",
       "   \"success\": true,\n",
       "   \"expectation_config\": {\n",
       "     \"type\": \"expect_column_values_to_not_be_null\",\n",
       "     \"kwargs\": {\n",
       "       \"batch_id\": \"pandas-pd_cc_list\",\n",
       "       \"column\": \"city\"\n",
       "     },\n",
       "     \"meta\": {}\n",
       "   },\n",
       "   \"result\": {\n",
       "     \"element_count\": 5000,\n",
       "     \"unexpected_count\": 0,\n",
       "     \"unexpected_percent\": 0.0,\n",
       "     \"partial_unexpected_list\": [],\n",
       "     \"partial_unexpected_counts\": [],\n",
       "     \"partial_unexpected_index_list\": []\n",
       "   },\n",
       "   \"meta\": {},\n",
       "   \"exception_info\": {\n",
       "     \"raised_exception\": false,\n",
       "     \"exception_traceback\": null,\n",
       "     \"exception_message\": null\n",
       "   }\n",
       " },\n",
       " {\n",
       "   \"success\": true,\n",
       "   \"expectation_config\": {\n",
       "     \"type\": \"expect_column_values_to_not_be_null\",\n",
       "     \"kwargs\": {\n",
       "       \"batch_id\": \"pandas-pd_cc_list\",\n",
       "       \"column\": \"gender\"\n",
       "     },\n",
       "     \"meta\": {}\n",
       "   },\n",
       "   \"result\": {\n",
       "     \"element_count\": 5000,\n",
       "     \"unexpected_count\": 0,\n",
       "     \"unexpected_percent\": 0.0,\n",
       "     \"partial_unexpected_list\": [],\n",
       "     \"partial_unexpected_counts\": [],\n",
       "     \"partial_unexpected_index_list\": []\n",
       "   },\n",
       "   \"meta\": {},\n",
       "   \"exception_info\": {\n",
       "     \"raised_exception\": false,\n",
       "     \"exception_traceback\": null,\n",
       "     \"exception_message\": null\n",
       "   }\n",
       " },\n",
       " {\n",
       "   \"success\": true,\n",
       "   \"expectation_config\": {\n",
       "     \"type\": \"expect_column_values_to_not_be_null\",\n",
       "     \"kwargs\": {\n",
       "       \"batch_id\": \"pandas-pd_cc_list\",\n",
       "       \"column\": \"merchant\"\n",
       "     },\n",
       "     \"meta\": {}\n",
       "   },\n",
       "   \"result\": {\n",
       "     \"element_count\": 5000,\n",
       "     \"unexpected_count\": 0,\n",
       "     \"unexpected_percent\": 0.0,\n",
       "     \"partial_unexpected_list\": [],\n",
       "     \"partial_unexpected_counts\": [],\n",
       "     \"partial_unexpected_index_list\": []\n",
       "   },\n",
       "   \"meta\": {},\n",
       "   \"exception_info\": {\n",
       "     \"raised_exception\": false,\n",
       "     \"exception_traceback\": null,\n",
       "     \"exception_message\": null\n",
       "   }\n",
       " },\n",
       " {\n",
       "   \"success\": false,\n",
       "   \"expectation_config\": {\n",
       "     \"type\": \"expect_column_values_to_not_be_null\",\n",
       "     \"kwargs\": {\n",
       "       \"batch_id\": \"pandas-pd_cc_list\",\n",
       "       \"column\": \"cc_bic\"\n",
       "     },\n",
       "     \"meta\": {}\n",
       "   },\n",
       "   \"result\": {\n",
       "     \"element_count\": 5000,\n",
       "     \"unexpected_count\": 1683,\n",
       "     \"unexpected_percent\": 33.660000000000004,\n",
       "     \"partial_unexpected_list\": [\n",
       "       null,\n",
       "       null,\n",
       "       null,\n",
       "       null,\n",
       "       null,\n",
       "       null,\n",
       "       null,\n",
       "       null,\n",
       "       null,\n",
       "       null,\n",
       "       null,\n",
       "       null,\n",
       "       null,\n",
       "       null,\n",
       "       null,\n",
       "       null,\n",
       "       null,\n",
       "       null,\n",
       "       null,\n",
       "       null\n",
       "     ],\n",
       "     \"partial_unexpected_counts\": [\n",
       "       {\n",
       "         \"value\": null,\n",
       "         \"count\": 20\n",
       "       }\n",
       "     ],\n",
       "     \"partial_unexpected_index_list\": [\n",
       "       2,\n",
       "       7,\n",
       "       10,\n",
       "       17,\n",
       "       19,\n",
       "       21,\n",
       "       25,\n",
       "       28,\n",
       "       34,\n",
       "       35,\n",
       "       36,\n",
       "       40,\n",
       "       50,\n",
       "       52,\n",
       "       53,\n",
       "       57,\n",
       "       63,\n",
       "       65,\n",
       "       66,\n",
       "       67\n",
       "     ]\n",
       "   },\n",
       "   \"meta\": {},\n",
       "   \"exception_info\": {\n",
       "     \"raised_exception\": false,\n",
       "     \"exception_traceback\": null,\n",
       "     \"exception_message\": null\n",
       "   }\n",
       " },\n",
       " {\n",
       "   \"success\": true,\n",
       "   \"expectation_config\": {\n",
       "     \"type\": \"expect_column_values_to_not_be_null\",\n",
       "     \"kwargs\": {\n",
       "       \"batch_id\": \"pandas-pd_cc_list\",\n",
       "       \"column\": \"trans_date_trans_time\"\n",
       "     },\n",
       "     \"meta\": {}\n",
       "   },\n",
       "   \"result\": {\n",
       "     \"element_count\": 5000,\n",
       "     \"unexpected_count\": 0,\n",
       "     \"unexpected_percent\": 0.0,\n",
       "     \"partial_unexpected_list\": [],\n",
       "     \"partial_unexpected_counts\": [],\n",
       "     \"partial_unexpected_index_list\": []\n",
       "   },\n",
       "   \"meta\": {},\n",
       "   \"exception_info\": {\n",
       "     \"raised_exception\": false,\n",
       "     \"exception_traceback\": null,\n",
       "     \"exception_message\": null\n",
       "   }\n",
       " },\n",
       " {\n",
       "   \"success\": true,\n",
       "   \"expectation_config\": {\n",
       "     \"type\": \"expect_column_distinct_values_to_contain_set\",\n",
       "     \"kwargs\": {\n",
       "       \"batch_id\": \"pandas-pd_cc_list\",\n",
       "       \"column\": \"gender\",\n",
       "       \"value_set\": [\n",
       "         \"F\",\n",
       "         \"M\"\n",
       "       ]\n",
       "     },\n",
       "     \"meta\": {}\n",
       "   },\n",
       "   \"result\": {\n",
       "     \"observed_value\": [\n",
       "       \"F\",\n",
       "       \"M\"\n",
       "     ],\n",
       "     \"details\": {\n",
       "       \"value_counts\": [\n",
       "         {\n",
       "           \"value\": \"F\",\n",
       "           \"count\": 2753\n",
       "         },\n",
       "         {\n",
       "           \"value\": \"M\",\n",
       "           \"count\": 2247\n",
       "         }\n",
       "       ]\n",
       "     }\n",
       "   },\n",
       "   \"meta\": {},\n",
       "   \"exception_info\": {\n",
       "     \"raised_exception\": false,\n",
       "     \"exception_traceback\": null,\n",
       "     \"exception_message\": null\n",
       "   }\n",
       " },\n",
       " {\n",
       "   \"success\": true,\n",
       "   \"expectation_config\": {\n",
       "     \"type\": \"expect_column_distinct_values_to_contain_set\",\n",
       "     \"kwargs\": {\n",
       "       \"batch_id\": \"pandas-pd_cc_list\",\n",
       "       \"column\": \"is_fraud\",\n",
       "       \"value_set\": [\n",
       "         0,\n",
       "         1\n",
       "       ]\n",
       "     },\n",
       "     \"meta\": {}\n",
       "   },\n",
       "   \"result\": {\n",
       "     \"observed_value\": [\n",
       "       0,\n",
       "       1\n",
       "     ],\n",
       "     \"details\": {\n",
       "       \"value_counts\": [\n",
       "         {\n",
       "           \"value\": 0,\n",
       "           \"count\": 4978\n",
       "         },\n",
       "         {\n",
       "           \"value\": 1,\n",
       "           \"count\": 22\n",
       "         }\n",
       "       ]\n",
       "     }\n",
       "   },\n",
       "   \"meta\": {},\n",
       "   \"exception_info\": {\n",
       "     \"raised_exception\": false,\n",
       "     \"exception_traceback\": null,\n",
       "     \"exception_message\": null\n",
       "   }\n",
       " }]"
      ]
     },
     "execution_count": 6,
     "metadata": {},
     "output_type": "execute_result"
    }
   ],
   "source": [
    "combined_results"
   ]
  },
  {
   "cell_type": "code",
   "execution_count": null,
   "id": "08c116eb-492a-45b8-bd9b-e031898fb524",
   "metadata": {},
   "outputs": [],
   "source": []
  }
 ],
 "metadata": {
  "kernelspec": {
   "display_name": "Python 3 (ipykernel)",
   "language": "python",
   "name": "python3"
  },
  "language_info": {
   "codemirror_mode": {
    "name": "ipython",
    "version": 3
   },
   "file_extension": ".py",
   "mimetype": "text/x-python",
   "name": "python",
   "nbconvert_exporter": "python",
   "pygments_lexer": "ipython3",
   "version": "3.11.6"
  }
 },
 "nbformat": 4,
 "nbformat_minor": 5
}
