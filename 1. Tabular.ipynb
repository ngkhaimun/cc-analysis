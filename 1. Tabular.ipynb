{
 "cells": [
  {
   "cell_type": "markdown",
   "id": "6049e0f1-e713-45f5-8ab7-9f71ccdf0c35",
   "metadata": {},
   "source": [
    "## Tabular Format"
   ]
  },
  {
   "cell_type": "markdown",
   "id": "c3cbb337-810f-4644-bce7-3c6d5af39a42",
   "metadata": {},
   "source": [
    "##### The section show class involve and used in generating the tabular format(CSV)"
   ]
  },
  {
   "cell_type": "code",
   "execution_count": 1,
   "id": "6689bfb4-2e85-4a5a-8eb1-726695904609",
   "metadata": {},
   "outputs": [],
   "source": [
    "from pnet.core import core\n",
    "\n",
    "# customize class that store functionality that assist generate basis data handling\n",
    "_util = core.Util()"
   ]
  },
  {
   "cell_type": "code",
   "execution_count": null,
   "id": "fc5ccfa0-16ac-4150-bbf3-72c3ff041253",
   "metadata": {},
   "outputs": [],
   "source": []
  },
  {
   "cell_type": "markdown",
   "id": "998f64fe-cbe6-4390-87c2-2b92b378e122",
   "metadata": {},
   "source": [
    "##### generate_csv() the function that generate CSV and store in '/data/output/'\n",
    "###### - due to size, CSV file generate is a subset of the actual json."
   ]
  },
  {
   "cell_type": "code",
   "execution_count": 2,
   "id": "f7b923e7-c5d5-4775-9ab5-1c63d6e3ae28",
   "metadata": {},
   "outputs": [],
   "source": [
    "df = _util.generate_csv()"
   ]
  },
  {
   "cell_type": "code",
   "execution_count": null,
   "id": "d13024bf-f6b6-4ad7-bc00-55181ea2656d",
   "metadata": {},
   "outputs": [],
   "source": []
  },
  {
   "cell_type": "markdown",
   "id": "4ff4dc48-4993-4303-a1bb-ce12763bb6ae",
   "metadata": {},
   "source": [
    "##### printSchema() listed fields need as per requirement(s)"
   ]
  },
  {
   "cell_type": "code",
   "execution_count": 3,
   "id": "b5349485-aca9-49f0-bd22-8e3e9807108d",
   "metadata": {},
   "outputs": [
    {
     "name": "stdout",
     "output_type": "stream",
     "text": [
      "Total records : 1296675\n",
      "root\n",
      " |-- Unnamed: 0: string (nullable = false)\n",
      " |-- trans_date_trans_time: string (nullable = false)\n",
      " |-- cc_num: string (nullable = true)\n",
      " |-- merchant: string (nullable = false)\n",
      " |-- category: string (nullable = false)\n",
      " |-- amt: decimal(10,2) (nullable = true)\n",
      " |-- first: string (nullable = false)\n",
      " |-- last: string (nullable = false)\n",
      " |-- gender: string (nullable = false)\n",
      " |-- street: string (nullable = false)\n",
      " |-- city: string (nullable = false)\n",
      " |-- state: string (nullable = false)\n",
      " |-- zip: string (nullable = false)\n",
      " |-- lat: string (nullable = false)\n",
      " |-- long: string (nullable = false)\n",
      " |-- city_pop: string (nullable = false)\n",
      " |-- job: string (nullable = false)\n",
      " |-- dob: string (nullable = false)\n",
      " |-- trans_num: string (nullable = false)\n",
      " |-- merch_lat: string (nullable = false)\n",
      " |-- merch_long: string (nullable = false)\n",
      " |-- is_fraud: string (nullable = false)\n",
      " |-- merch_zipcode: string (nullable = false)\n",
      " |-- merch_last_update_time: string (nullable = false)\n",
      " |-- merch_eff_time: string (nullable = false)\n",
      " |-- cc_bic: string (nullable = false)\n",
      "\n"
     ]
    }
   ],
   "source": [
    "print(\"Total records : {0}\".format(df.count()))\n",
    "df.printSchema()"
   ]
  },
  {
   "cell_type": "code",
   "execution_count": null,
   "id": "43cb8d15-46a0-4e62-9fb8-c0192cec8af4",
   "metadata": {},
   "outputs": [],
   "source": []
  },
  {
   "cell_type": "markdown",
   "id": "958d3fc0-ad9c-4063-91cc-cd721ce8069e",
   "metadata": {},
   "source": [
    "##### Display data as per dataset"
   ]
  },
  {
   "cell_type": "code",
   "execution_count": 4,
   "id": "1661c70a-53cb-4983-916e-8755973efd24",
   "metadata": {},
   "outputs": [
    {
     "name": "stdout",
     "output_type": "stream",
     "text": [
      "-RECORD 0--------------------------------------------------\n",
      " Unnamed: 0             | 1162223                          \n",
      " trans_date_trans_time  | 2020-04-29 16:15:17+08:00        \n",
      " cc_num                 | 601167######5347                 \n",
      " merchant               | Deckow-Dare                      \n",
      " category               | food_dining                      \n",
      " amt                    | 6.20                             \n",
      " first                  | Jennifer                         \n",
      " last                   | Gonzalez                         \n",
      " gender                 | F                                \n",
      " street                 | 5517 Stacy Land                  \n",
      " city                   | Jelm                             \n",
      " state                  | WY                               \n",
      " zip                    | 82063                            \n",
      " lat                    | 41.0539                          \n",
      " long                   | -106.0763                        \n",
      " city_pop               | 100                              \n",
      " job                    | Public librarian                 \n",
      " dob                    | 1974-04-16                       \n",
      " trans_num              | 000088fe170f044d2ed28c570282c7a4 \n",
      " merch_lat              | 40.06884                         \n",
      " merch_long             | -105.100901                      \n",
      " is_fraud               | 0                                \n",
      " merch_zipcode          | 80516                            \n",
      " merch_last_update_time | 2013-04-29 16:15:17+08:00        \n",
      " merch_eff_time         | 2013-04-29 16:15:17+08:00        \n",
      " cc_bic                 |                                  \n",
      "-RECORD 1--------------------------------------------------\n",
      " Unnamed: 0             | 1034674                          \n",
      " trans_date_trans_time  | 2020-03-04 16:17:16+08:00        \n",
      " cc_num                 | 490884######6297                 \n",
      " merchant               | Gottlieb-Hansen                  \n",
      " category               | personal_care                    \n",
      " amt                    | 79.95                            \n",
      " first                  | Lauren                           \n",
      " last                   |                                  \n",
      " gender                 | F                                \n",
      " street                 | 03030 White Lakes                \n",
      " city                   | Grandview                        \n",
      " state                  | TX                               \n",
      " zip                    | 76050                            \n",
      " lat                    | 32.2779                          \n",
      " long                   | -97.2351                         \n",
      " city_pop               | 5875                             \n",
      " job                    | Radiographer, therapeutic        \n",
      " dob                    | 1992-07-24                       \n",
      " trans_num              | 0000dfd04a508bc2bd2856186cffaf44 \n",
      " merch_lat              | 33.267416                        \n",
      " merch_long             | -96.482627                       \n",
      " is_fraud               | 0                                \n",
      " merch_zipcode          | 75454                            \n",
      " merch_last_update_time | 2013-03-04 16:17:16+08:00        \n",
      " merch_eff_time         | 2013-03-04 16:17:16+08:00        \n",
      " cc_bic                 | DEUTUS33TRF                      \n",
      "-RECORD 2--------------------------------------------------\n",
      " Unnamed: 0             | 270014                           \n",
      " trans_date_trans_time  | 2019-05-13 14:36:18+08:00        \n",
      " cc_num                 | 601150######4485                 \n",
      " merchant               | Skiles LLC                       \n",
      " category               | home                             \n",
      " amt                    | 59.33                            \n",
      " first                  | Ashley                           \n",
      " last                   | Whitney                          \n",
      " gender                 | F                                \n",
      " street                 | 4038 Smith Avenue                \n",
      " city                   | Jones                            \n",
      " state                  | AL                               \n",
      " zip                    | 36749                            \n",
      " lat                    | 32.5104                          \n",
      " long                   | -86.8138                         \n",
      " city_pop               | 1089                             \n",
      " job                    | Materials engineer               \n",
      " dob                    | 1971-11-02                       \n",
      " trans_num              | 000163efab01b5ed89ad0b3025fd2dc6 \n",
      " merch_lat              | 32.169786                        \n",
      " merch_long             | -87.14174399999999               \n",
      " is_fraud               | 0                                \n",
      " merch_zipcode          | 36775                            \n",
      " merch_last_update_time | 2012-05-13 14:36:18+08:00        \n",
      " merch_eff_time         | 2012-05-13 14:36:18+08:00        \n",
      " cc_bic                 | ACEEUS31                         \n",
      "only showing top 3 rows\n",
      "\n"
     ]
    }
   ],
   "source": [
    "df.show(3, truncate = False, vertical = True)"
   ]
  },
  {
   "cell_type": "code",
   "execution_count": null,
   "id": "9fff02fc-0b03-49c3-a3d4-28aa19419033",
   "metadata": {},
   "outputs": [],
   "source": []
  }
 ],
 "metadata": {
  "kernelspec": {
   "display_name": "Python 3 (ipykernel)",
   "language": "python",
   "name": "python3"
  },
  "language_info": {
   "codemirror_mode": {
    "name": "ipython",
    "version": 3
   },
   "file_extension": ".py",
   "mimetype": "text/x-python",
   "name": "python",
   "nbconvert_exporter": "python",
   "pygments_lexer": "ipython3",
   "version": "3.11.6"
  }
 },
 "nbformat": 4,
 "nbformat_minor": 5
}
