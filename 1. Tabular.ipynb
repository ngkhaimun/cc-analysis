{
 "cells": [
  {
   "cell_type": "markdown",
   "id": "6049e0f1-e713-45f5-8ab7-9f71ccdf0c35",
   "metadata": {},
   "source": [
    "## Tabular Format"
   ]
  },
  {
   "cell_type": "markdown",
   "id": "c3cbb337-810f-4644-bce7-3c6d5af39a42",
   "metadata": {},
   "source": [
    "##### The section show class involve and used in generating the tabular format(CSV)"
   ]
  },
  {
   "cell_type": "code",
   "execution_count": 1,
   "id": "6689bfb4-2e85-4a5a-8eb1-726695904609",
   "metadata": {},
   "outputs": [],
   "source": [
    "from pnet.core import core\n",
    "\n",
    "# customize class that store functionality that assist generate basis data handling\n",
    "_util = core.Util()"
   ]
  },
  {
   "cell_type": "code",
   "execution_count": null,
   "id": "fc5ccfa0-16ac-4150-bbf3-72c3ff041253",
   "metadata": {},
   "outputs": [],
   "source": []
  },
  {
   "cell_type": "markdown",
   "id": "998f64fe-cbe6-4390-87c2-2b92b378e122",
   "metadata": {},
   "source": [
    "##### generate_csv() the function that generate CSV and store in '/data/output/'\n",
    "###### - due to size, CSV file generate is a subset of the actial json."
   ]
  },
  {
   "cell_type": "code",
   "execution_count": 2,
   "id": "f7b923e7-c5d5-4775-9ab5-1c63d6e3ae28",
   "metadata": {},
   "outputs": [],
   "source": [
    "df = _util.generate_csv()"
   ]
  },
  {
   "cell_type": "code",
   "execution_count": null,
   "id": "d13024bf-f6b6-4ad7-bc00-55181ea2656d",
   "metadata": {},
   "outputs": [],
   "source": []
  },
  {
   "cell_type": "markdown",
   "id": "4ff4dc48-4993-4303-a1bb-ce12763bb6ae",
   "metadata": {},
   "source": [
    "##### printSchema() listed fields need as per requirement(s)"
   ]
  },
  {
   "cell_type": "code",
   "execution_count": 3,
   "id": "b5349485-aca9-49f0-bd22-8e3e9807108d",
   "metadata": {},
   "outputs": [
    {
     "name": "stdout",
     "output_type": "stream",
     "text": [
      "Total records : 5000\n",
      "root\n",
      " |-- Unnamed: 0: string (nullable = false)\n",
      " |-- trans_date_trans_time: string (nullable = false)\n",
      " |-- cc_num: string (nullable = true)\n",
      " |-- merchant: string (nullable = false)\n",
      " |-- category: string (nullable = false)\n",
      " |-- amt: decimal(10,2) (nullable = true)\n",
      " |-- first: string (nullable = false)\n",
      " |-- last: string (nullable = false)\n",
      " |-- gender: string (nullable = false)\n",
      " |-- street: string (nullable = false)\n",
      " |-- city: string (nullable = false)\n",
      " |-- state: string (nullable = false)\n",
      " |-- zip: string (nullable = false)\n",
      " |-- lat: string (nullable = false)\n",
      " |-- long: string (nullable = false)\n",
      " |-- city_pop: string (nullable = false)\n",
      " |-- job: string (nullable = false)\n",
      " |-- dob: string (nullable = false)\n",
      " |-- trans_num: string (nullable = false)\n",
      " |-- merch_lat: string (nullable = false)\n",
      " |-- merch_long: string (nullable = false)\n",
      " |-- is_fraud: string (nullable = false)\n",
      " |-- merch_zipcode: string (nullable = false)\n",
      " |-- merch_last_update_time: string (nullable = false)\n",
      " |-- merch_eff_time: string (nullable = false)\n",
      " |-- cc_bic: string (nullable = false)\n",
      "\n"
     ]
    }
   ],
   "source": [
    "print(\"Total records : {0}\".format(df.count()))\n",
    "df.printSchema()"
   ]
  },
  {
   "cell_type": "code",
   "execution_count": null,
   "id": "43cb8d15-46a0-4e62-9fb8-c0192cec8af4",
   "metadata": {},
   "outputs": [],
   "source": []
  },
  {
   "cell_type": "markdown",
   "id": "958d3fc0-ad9c-4063-91cc-cd721ce8069e",
   "metadata": {},
   "source": [
    "##### Display data as per dataset"
   ]
  },
  {
   "cell_type": "code",
   "execution_count": 4,
   "id": "1661c70a-53cb-4983-916e-8755973efd24",
   "metadata": {},
   "outputs": [
    {
     "name": "stdout",
     "output_type": "stream",
     "text": [
      "-RECORD 0---------------------------------------------------\n",
      " Unnamed: 0             | 0                                 \n",
      " trans_date_trans_time  | 2019-01-01 00:00:18+08:00         \n",
      " cc_num                 | 270318######2095                  \n",
      " merchant               | Rippin, Kub and Mann              \n",
      " category               | misc_net                          \n",
      " amt                    | 4.97                              \n",
      " first                  | Jennifer                          \n",
      " last                   | Banks                             \n",
      " gender                 | F                                 \n",
      " street                 | 561 Perry Cove                    \n",
      " city                   | Moravian Falls                    \n",
      " state                  | NC                                \n",
      " zip                    | 28654                             \n",
      " lat                    | 36.0788                           \n",
      " long                   | -81.1781                          \n",
      " city_pop               | 3495                              \n",
      " job                    | Psychologist, counselling         \n",
      " dob                    | 1988-03-09                        \n",
      " trans_num              | 0b242abb623afc578575680df30655b9  \n",
      " merch_lat              | 36.011293                         \n",
      " merch_long             | -82.048315                        \n",
      " is_fraud               | 0                                 \n",
      " merch_zipcode          | 28705                             \n",
      " merch_last_update_time | 2012-01-01 00:00:18+08:00         \n",
      " merch_eff_time         | 2012-01-01 00:00:18+08:00         \n",
      " cc_bic                 | CITIUS33CHI                       \n",
      "-RECORD 1---------------------------------------------------\n",
      " Unnamed: 0             | 1                                 \n",
      " trans_date_trans_time  | 2019-01-01 00:00:44+08:00         \n",
      " cc_num                 | 630423##7322                      \n",
      " merchant               | Heller, Gutmann and Zieme         \n",
      " category               | grocery_pos                       \n",
      " amt                    | 107.23                            \n",
      " first                  | Stephanie                         \n",
      " last                   | Gill                              \n",
      " gender                 | F                                 \n",
      " street                 | 43039 Riley Greens Suite 393      \n",
      " city                   | Orient                            \n",
      " state                  | WA                                \n",
      " zip                    | 99160                             \n",
      " lat                    | 48.8878                           \n",
      " long                   | -118.2105                         \n",
      " city_pop               | 149                               \n",
      " job                    | Special educational needs teacher \n",
      " dob                    | 1978-06-21                        \n",
      " trans_num              | 1f76529f8574734946361c461b024d99  \n",
      " merch_lat              | 49.159046999999994                \n",
      " merch_long             | -118.186462                       \n",
      " is_fraud               | 0                                 \n",
      " merch_zipcode          |                                   \n",
      " merch_last_update_time | 2012-01-01 00:00:44+08:00         \n",
      " merch_eff_time         | 2012-01-01 00:00:44+08:00         \n",
      " cc_bic                 | ADMDUS41                          \n",
      "-RECORD 2---------------------------------------------------\n",
      " Unnamed: 0             | 2                                 \n",
      " trans_date_trans_time  | 2019-01-01 00:00:51+08:00         \n",
      " cc_num                 | 388594####7661                    \n",
      " merchant               | Lind-Buckridge                    \n",
      " category               | entertainment                     \n",
      " amt                    | 220.11                            \n",
      " first                  | Edward                            \n",
      " last                   | Sanchez                           \n",
      " gender                 | M                                 \n",
      " street                 | 594 White Dale Suite 530          \n",
      " city                   | Malad City                        \n",
      " state                  | ID                                \n",
      " zip                    | 83252                             \n",
      " lat                    | 42.1808                           \n",
      " long                   | -112.262                          \n",
      " city_pop               | 4154                              \n",
      " job                    | Nature conservation officer       \n",
      " dob                    | 1962-01-19                        \n",
      " trans_num              | a1a22d70485983eac12b5b88dad1cf95  \n",
      " merch_lat              | 43.150704                         \n",
      " merch_long             | -112.154481                       \n",
      " is_fraud               | 0                                 \n",
      " merch_zipcode          | 83236                             \n",
      " merch_last_update_time | 2012-01-01 00:00:51+08:00         \n",
      " merch_eff_time         | 2012-01-01 00:00:51+08:00         \n",
      " cc_bic                 |                                   \n",
      "only showing top 3 rows\n",
      "\n"
     ]
    }
   ],
   "source": [
    "df.show(3, truncate = False, vertical = True)"
   ]
  },
  {
   "cell_type": "code",
   "execution_count": null,
   "id": "9fff02fc-0b03-49c3-a3d4-28aa19419033",
   "metadata": {},
   "outputs": [],
   "source": []
  }
 ],
 "metadata": {
  "kernelspec": {
   "display_name": "Python 3 (ipykernel)",
   "language": "python",
   "name": "python3"
  },
  "language_info": {
   "codemirror_mode": {
    "name": "ipython",
    "version": 3
   },
   "file_extension": ".py",
   "mimetype": "text/x-python",
   "name": "python",
   "nbconvert_exporter": "python",
   "pygments_lexer": "ipython3",
   "version": "3.11.6"
  }
 },
 "nbformat": 4,
 "nbformat_minor": 5
}
